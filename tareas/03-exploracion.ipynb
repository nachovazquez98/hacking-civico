{
 "cells": [
  {
   "cell_type": "code",
   "execution_count": 1,
   "metadata": {},
   "outputs": [],
   "source": [
    "import os\n",
    "import pandas as pd\n",
    "import numpy as np"
   ]
  },
  {
   "cell_type": "code",
   "execution_count": 2,
   "metadata": {},
   "outputs": [
    {
     "data": {
      "text/plain": [
       "['SECTOR',\n",
       " 'ENTIDAD_UM',\n",
       " 'SEXO',\n",
       " 'ENTIDAD_NAC',\n",
       " 'ENTIDAD_RES',\n",
       " 'MUNICIPIO_RES',\n",
       " 'TIPO_PACIENTE',\n",
       " 'FECHA_INGRESO',\n",
       " 'FECHA_SINTOMAS',\n",
       " 'FECHA_DEF',\n",
       " 'INTUBADO',\n",
       " 'NEUMONIA',\n",
       " 'EDAD',\n",
       " 'NACIONALIDAD',\n",
       " 'EMBARAZO',\n",
       " 'HABLA_LENGUA_INDIG',\n",
       " 'DIABETES',\n",
       " 'EPOC',\n",
       " 'ASMA',\n",
       " 'INMUSUPR',\n",
       " 'HIPERTENSION',\n",
       " 'OTRA_COM',\n",
       " 'CARDIOVASCULAR',\n",
       " 'OBESIDAD',\n",
       " 'RENAL_CRONICA',\n",
       " 'TABAQUISMO',\n",
       " 'OTRO_CASO',\n",
       " 'UCI',\n",
       " 'DIAS_DIF_HOSP',\n",
       " 'BOOL_DEF',\n",
       " 'DIAS_DIF_DEF']"
      ]
     },
     "execution_count": 2,
     "metadata": {},
     "output_type": "execute_result"
    }
   ],
   "source": [
    "df = pd.read_csv(\"covid_data.csv.zip\")\n",
    "df = df[df.RESULTADO == 1] #En caso de que se quiera filtrar por s{olo los que dieron positivo\n",
    "df.drop(['RESULTADO'], axis=1, inplace = True)\n",
    "#lista de columnas\n",
    "list(df)"
   ]
  },
  {
   "cell_type": "code",
   "execution_count": 5,
   "metadata": {},
   "outputs": [
    {
     "name": "stdout",
     "output_type": "stream",
     "text": [
      "              BOOL_DEF\n",
      "HIPERTENSION  0.216548\n",
      "BOOL_DEF      1.000000\n"
     ]
    }
   ],
   "source": [
    "#¿Tienen los pacientes con hipertensión un riesgo más alto de defunción?\n",
    "hiper = df.loc[:,['HIPERTENSION','BOOL_DEF']]\n",
    "hiper_corr = hiper.corr()[['BOOL_DEF']]\n",
    "print(hiper_corr)"
   ]
  },
  {
   "cell_type": "code",
   "execution_count": 13,
   "metadata": {},
   "outputs": [
    {
     "name": "stdout",
     "output_type": "stream",
     "text": [
      "9     95185\n",
      "15    66376\n",
      "11    29912\n",
      "19    27755\n",
      "30    27669\n",
      "27    27635\n",
      "21    26286\n",
      "28    23906\n",
      "26    21110\n",
      "5     20788\n",
      "14    19231\n",
      "24    17079\n",
      "2     16326\n",
      "25    15747\n",
      "12    14432\n",
      "16    14347\n",
      "31    14223\n",
      "20    13271\n",
      "23    10068\n",
      "13     9945\n",
      "8      7586\n",
      "3      7276\n",
      "7      6231\n",
      "10     6165\n",
      "29     6121\n",
      "22     5985\n",
      "4      5484\n",
      "1      5399\n",
      "17     5074\n",
      "32     5017\n",
      "18     4817\n",
      "6      3468\n",
      "Name: ENTIDAD_RES, dtype: int64\n"
     ]
    },
    {
     "data": {
      "text/plain": [
       "{1: ['AS'],\n",
       " 2: ['BC'],\n",
       " 3: ['BS'],\n",
       " 4: ['CC'],\n",
       " 5: ['CL'],\n",
       " 6: ['CM'],\n",
       " 7: ['CS'],\n",
       " 8: ['CH'],\n",
       " 9: ['DF'],\n",
       " 10: ['DG'],\n",
       " 11: ['GT'],\n",
       " 12: ['GR'],\n",
       " 13: ['HG'],\n",
       " 14: ['JC'],\n",
       " 15: ['MC'],\n",
       " 16: ['MN'],\n",
       " 17: ['MS'],\n",
       " 18: ['NT'],\n",
       " 19: ['NL'],\n",
       " 20: ['OC'],\n",
       " 21: ['PL'],\n",
       " 22: ['QT'],\n",
       " 23: ['QR'],\n",
       " 24: ['SP'],\n",
       " 25: ['SL'],\n",
       " 26: ['SR'],\n",
       " 27: ['TC'],\n",
       " 28: ['TS'],\n",
       " 29: ['TL'],\n",
       " 30: ['VZ'],\n",
       " 31: ['YN'],\n",
       " 32: ['ZS'],\n",
       " 36: ['EUM'],\n",
       " 97: [nan],\n",
       " 98: ['SI'],\n",
       " 99: ['NE']}"
      ]
     },
     "execution_count": 13,
     "metadata": {},
     "output_type": "execute_result"
    }
   ],
   "source": [
    "#¿Cuántos casos confirmados se tienen por Estado?\n",
    "print(df['ENTIDAD_RES'].value_counts())\n",
    "df_estados = pd.read_csv(\"diccionario_datos_covid19/diccionario_estados.csv\",index_col=False)\n",
    "df_estados = df_estados.iloc[:,[0,2]]\n",
    "dict_estados = df_estados.set_index('CLAVE_ENTIDAD').T.to_dict('list')\n",
    "dict_estados"
   ]
  },
  {
   "cell_type": "code",
   "execution_count": 15,
   "metadata": {},
   "outputs": [
    {
     "name": "stdout",
     "output_type": "stream",
     "text": [
      "15    9897\n",
      "9     8301\n",
      "30    3671\n",
      "21    3371\n",
      "2     3123\n",
      "25    2721\n",
      "26    2568\n",
      "27    2478\n",
      "14    2343\n",
      "19    2121\n",
      "28    1724\n",
      "11    1665\n",
      "12    1661\n",
      "13    1504\n",
      "23    1377\n",
      "5     1326\n",
      "31    1266\n",
      "20    1251\n",
      "16    1141\n",
      "8     1120\n",
      "24    1080\n",
      "7     1061\n",
      "17     964\n",
      "29     942\n",
      "4      731\n",
      "22     649\n",
      "18     569\n",
      "32     465\n",
      "10     413\n",
      "6      377\n",
      "1      376\n",
      "3      338\n",
      "Name: ENTIDAD_RES, dtype: int64\n"
     ]
    },
    {
     "data": {
      "text/plain": [
       "{1: ['AS'],\n",
       " 2: ['BC'],\n",
       " 3: ['BS'],\n",
       " 4: ['CC'],\n",
       " 5: ['CL'],\n",
       " 6: ['CM'],\n",
       " 7: ['CS'],\n",
       " 8: ['CH'],\n",
       " 9: ['DF'],\n",
       " 10: ['DG'],\n",
       " 11: ['GT'],\n",
       " 12: ['GR'],\n",
       " 13: ['HG'],\n",
       " 14: ['JC'],\n",
       " 15: ['MC'],\n",
       " 16: ['MN'],\n",
       " 17: ['MS'],\n",
       " 18: ['NT'],\n",
       " 19: ['NL'],\n",
       " 20: ['OC'],\n",
       " 21: ['PL'],\n",
       " 22: ['QT'],\n",
       " 23: ['QR'],\n",
       " 24: ['SP'],\n",
       " 25: ['SL'],\n",
       " 26: ['SR'],\n",
       " 27: ['TC'],\n",
       " 28: ['TS'],\n",
       " 29: ['TL'],\n",
       " 30: ['VZ'],\n",
       " 31: ['YN'],\n",
       " 32: ['ZS'],\n",
       " 36: ['EUM'],\n",
       " 97: [nan],\n",
       " 98: ['SI'],\n",
       " 99: ['NE']}"
      ]
     },
     "execution_count": 15,
     "metadata": {},
     "output_type": "execute_result"
    }
   ],
   "source": [
    "#¿Cuántas defunciones se tienen por Estado?\n",
    "print(df['ENTIDAD_RES'].loc[df.BOOL_DEF == 1].value_counts())\n",
    "df_estados = pd.read_csv(\"diccionario_datos_covid19/diccionario_estados.csv\",index_col=False)\n",
    "df_estados = df_estados.iloc[:,[0,2]]\n",
    "dict_estados = df_estados.set_index('CLAVE_ENTIDAD').T.to_dict('list')\n",
    "dict_estados"
   ]
  },
  {
   "cell_type": "code",
   "execution_count": 60,
   "metadata": {},
   "outputs": [
    {
     "name": "stdout",
     "output_type": "stream",
     "text": [
      "1    8301\n",
      "Name: BOOL_DEF, dtype: int64\n"
     ]
    }
   ],
   "source": [
    "# ¿Cuántos fallecimientos han ocurrido en el Estado con mayor número de casos confirmados?\n",
    "estados = df['ENTIDAD_RES'].value_counts()\n",
    "int_estado = estados[:1].index.tolist()\n",
    "df_estado = df[df.ENTIDAD_RES == int_estado[0]]\n",
    "print(df_estado.BOOL_DEF.loc[df_estado.BOOL_DEF == 1].value_counts())"
   ]
  },
  {
   "cell_type": "code",
   "execution_count": 66,
   "metadata": {},
   "outputs": [
    {
     "name": "stdout",
     "output_type": "stream",
     "text": [
      "0    7110\n",
      "Name: TIPO_PACIENTE, dtype: int64\n"
     ]
    }
   ],
   "source": [
    "#¿Cuántos fallecimientos han ocurrido en los pacientes Ambulatorios?\n",
    "print(df['TIPO_PACIENTE'][df.TIPO_PACIENTE==0].loc[df.BOOL_DEF == 1].value_counts())"
   ]
  },
  {
   "cell_type": "code",
   "execution_count": null,
   "metadata": {},
   "outputs": [],
   "source": []
  },
  {
   "cell_type": "code",
   "execution_count": null,
   "metadata": {},
   "outputs": [],
   "source": []
  },
  {
   "cell_type": "code",
   "execution_count": null,
   "metadata": {},
   "outputs": [],
   "source": []
  }
 ],
 "metadata": {
  "kernelspec": {
   "display_name": "Python 3 (Spyder)",
   "language": "python3",
   "name": "python3"
  },
  "language_info": {
   "codemirror_mode": {
    "name": "ipython",
    "version": 3
   },
   "file_extension": ".py",
   "mimetype": "text/x-python",
   "name": "python",
   "nbconvert_exporter": "python",
   "pygments_lexer": "ipython3",
   "version": "3.6.10"
  }
 },
 "nbformat": 4,
 "nbformat_minor": 4
}
