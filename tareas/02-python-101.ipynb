{
 "cells": [
  {
   "cell_type": "code",
   "execution_count": 1,
   "metadata": {},
   "outputs": [],
   "source": [
    "qro_cuidad = {'no_hab': 878931,'km2': 363}\n",
    "qro_estado = {'no_hab': 2038372,'km2': 11699}\n",
    "mexico_pais = {'no_hab': 119530753,'km2': 1972550}\n"
   ]
  },
  {
   "cell_type": "code",
   "execution_count": 2,
   "metadata": {},
   "outputs": [],
   "source": [
    "def densidad_poblacional(poblacion, area_ciudad):\n",
    "    densidad = poblacion/area_ciudad\n",
    "    print(densidad)\n",
    "    return densidad"
   ]
  },
  {
   "cell_type": "code",
   "execution_count": 3,
   "metadata": {},
   "outputs": [
    {
     "name": "stdout",
     "output_type": "stream",
     "text": [
      "2421.2975206611573\n",
      "174.23472091631763\n",
      "60.597071303642494\n"
     ]
    }
   ],
   "source": [
    "densidad_ciudad = densidad_poblacional(qro_cuidad['no_hab'], qro_cuidad['km2'])\n",
    "densidad_estado = densidad_poblacional(qro_estado['no_hab'], qro_estado['km2'])\n",
    "densidad_pais = densidad_poblacional(mexico_pais['no_hab'], mexico_pais['km2'])\n"
   ]
  },
  {
   "cell_type": "code",
   "execution_count": null,
   "metadata": {},
   "outputs": [],
   "source": [
    "'''\n",
    "¿Cuál es la densidad poblacional?\n",
    "Es el promedio de habitantes por unidad superficial en un determinado territorio\n",
    "\n",
    "¿Qué pasa comparar varios estados o ciudades?\n",
    "Podemos observar que el país tiene mucho más territorio que población\n",
    "\n",
    "\n",
    "Fecha\tGasto Educación (M.€)\tGasto Educación (%Gto Pub)\tGasto Educación (%PIB)\tGasto Educación Per Capita\n",
    "2016\t47.793,6\t17,94%\t4,91%\t391€\n",
    "2015\t55.133,4\t19,02%\t5,24%\t456€\n",
    "\n",
    "¿En qué porcentaje aumentó o disminuyó?\n",
    "Disminuyo el gasto en educación en un 14%\n",
    "\n",
    "¿A qué crees que se deba?\n",
    "En recortes para pagar la deuda externa, o dar más presupuesto en promesas de campaña\n",
    "\n",
    "¿Para qué crees que nos pueda ser útil esta información?\n",
    "Para saber el patron de los gobernantes y sus prioridades para distribuir el presupuesto\n",
    "\n",
    "¿Qué decisiones podría tomar el gobierno basado en ésta?\n",
    "Que afecta realmente quitar el porcentaje en cosas basicas como la educación, porque debido a la inflación el dinero vale menos cada cierto tiempo\n",
    "\n",
    "'''"
   ]
  }
 ],
 "metadata": {
  "kernelspec": {
   "display_name": "Python 3 (Spyder)",
   "language": "python3",
   "name": "python3"
  },
  "language_info": {
   "codemirror_mode": {
    "name": "ipython",
    "version": 3
   },
   "file_extension": ".py",
   "mimetype": "text/x-python",
   "name": "python",
   "nbconvert_exporter": "python",
   "pygments_lexer": "ipython3",
   "version": "3.6.10"
  }
 },
 "nbformat": 4,
 "nbformat_minor": 4
}
